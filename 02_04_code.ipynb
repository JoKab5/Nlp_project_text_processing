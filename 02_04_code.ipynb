{
 "cells": [
  {
   "cell_type": "code",
   "execution_count": 1,
   "id": "d1c205a2",
   "metadata": {},
   "outputs": [],
   "source": [
    "import re\n",
    "\n",
    "test1=\"Nous allons etudier le module re de Python\"\n",
    "\n",
    "test2=\"Nous   allons   etudier le module  re de     Python\"\n",
    "\n",
    "test3= \"Nous/allons/etudier-le-module-re_de_python\""
   ]
  },
  {
   "cell_type": "code",
   "execution_count": 3,
   "id": "cc989813",
   "metadata": {},
   "outputs": [
    {
     "data": {
      "text/plain": [
       "['Nous', 'allons', 'etudier', 'le', 'module', 're', 'de', 'Python']"
      ]
     },
     "execution_count": 3,
     "metadata": {},
     "output_type": "execute_result"
    }
   ],
   "source": [
    "re.findall(\"\\S+\", test1)"
   ]
  },
  {
   "cell_type": "code",
   "execution_count": 4,
   "id": "bac5c3e5",
   "metadata": {},
   "outputs": [
    {
     "data": {
      "text/plain": [
       "['Nous', 'allons', 'etudier', 'le', 'module', 're', 'de', 'Python']"
      ]
     },
     "execution_count": 4,
     "metadata": {},
     "output_type": "execute_result"
    }
   ],
   "source": [
    "re.findall(\"\\S+\", test2)"
   ]
  },
  {
   "cell_type": "code",
   "execution_count": 7,
   "id": "65f95bcd",
   "metadata": {},
   "outputs": [
    {
     "data": {
      "text/plain": [
       "['Nous/allons/etudier-le-module-re_de_python']"
      ]
     },
     "execution_count": 7,
     "metadata": {},
     "output_type": "execute_result"
    }
   ],
   "source": [
    "re.findall(\"\\S+\", test3)"
   ]
  },
  {
   "cell_type": "code",
   "execution_count": 10,
   "id": "eb83efdb",
   "metadata": {},
   "outputs": [
    {
     "data": {
      "text/plain": [
       "['Nous', 'allons', 'etudier', 'le', 'module', 're_de_python']"
      ]
     },
     "execution_count": 10,
     "metadata": {},
     "output_type": "execute_result"
    }
   ],
   "source": [
    "re.findall(\"\\w+\", test3)"
   ]
  },
  {
   "cell_type": "code",
   "execution_count": null,
   "id": "c10f0fc5",
   "metadata": {},
   "outputs": [],
   "source": []
  },
  {
   "cell_type": "code",
   "execution_count": 11,
   "id": "233be5b3",
   "metadata": {},
   "outputs": [],
   "source": [
    "test = \"Mon language préféré est le language PYTHON\""
   ]
  },
  {
   "cell_type": "code",
   "execution_count": 22,
   "id": "042ee622",
   "metadata": {},
   "outputs": [
    {
     "data": {
      "text/plain": [
       "['on', 'language', 'pr', 'f', 'r', 'est', 'le', 'language']"
      ]
     },
     "execution_count": 22,
     "metadata": {},
     "output_type": "execute_result"
    }
   ],
   "source": [
    "re.findall(\"[a-z]+\", test)"
   ]
  },
  {
   "cell_type": "code",
   "execution_count": 23,
   "id": "576945b9",
   "metadata": {},
   "outputs": [
    {
     "data": {
      "text/plain": [
       "['on', 'language', 'préféré', 'est', 'le', 'language']"
      ]
     },
     "execution_count": 23,
     "metadata": {},
     "output_type": "execute_result"
    }
   ],
   "source": [
    "re.findall(\"[a-z\\u00C0-\\u00FF]+\", test)"
   ]
  },
  {
   "cell_type": "code",
   "execution_count": 24,
   "id": "1e4afb37",
   "metadata": {},
   "outputs": [
    {
     "data": {
      "text/plain": [
       "['Mon', 'PYTHON']"
      ]
     },
     "execution_count": 24,
     "metadata": {},
     "output_type": "execute_result"
    }
   ],
   "source": [
    "re.findall('[A-Z]+[a-z]*', test)"
   ]
  },
  {
   "cell_type": "code",
   "execution_count": 26,
   "id": "ab392301",
   "metadata": {},
   "outputs": [
    {
     "data": {
      "text/plain": [
       "'Joeon language préféré est le language Joe'"
      ]
     },
     "execution_count": 26,
     "metadata": {},
     "output_type": "execute_result"
    }
   ],
   "source": [
    "re.sub('[A-Z]+', 'Joe', test)"
   ]
  },
  {
   "cell_type": "code",
   "execution_count": 27,
   "id": "b1cdd021",
   "metadata": {},
   "outputs": [
    {
     "data": {
      "text/plain": [
       "'Mon language préféré est le language Joe'"
      ]
     },
     "execution_count": 27,
     "metadata": {},
     "output_type": "execute_result"
    }
   ],
   "source": [
    "re.sub('[A-Z]+[A-Z]', 'Joe', test)"
   ]
  },
  {
   "cell_type": "code",
   "execution_count": null,
   "id": "146188cf",
   "metadata": {},
   "outputs": [],
   "source": []
  }
 ],
 "metadata": {
  "kernelspec": {
   "display_name": "Python 3",
   "language": "python",
   "name": "python3"
  },
  "language_info": {
   "codemirror_mode": {
    "name": "ipython",
    "version": 3
   },
   "file_extension": ".py",
   "mimetype": "text/x-python",
   "name": "python",
   "nbconvert_exporter": "python",
   "pygments_lexer": "ipython3",
   "version": "3.8.8"
  }
 },
 "nbformat": 4,
 "nbformat_minor": 5
}
